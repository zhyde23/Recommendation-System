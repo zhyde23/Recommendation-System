{
 "cells": [
  {
   "cell_type": "markdown",
   "metadata": {},
   "source": [
    "## Introduction to Project"
   ]
  },
  {
   "cell_type": "markdown",
   "metadata": {},
   "source": [
    "Business Case - A new streaming company, LiveWire, is beginning to understand the market that has the majority of its viewers utilizing streaming systems such as: Netflix, Amazon Prime, and Hulu. LiveWire needs the help of a Data Scientist to understand what movies are best to include in its library that are appealing to a wide variety of viewers and needs a recommendation system like these other large brand names have to keep the consumer engaged and interested with their product.\n",
    "\n",
    "Questions to answer throughout the modeling project:\n",
    "    1. What are the top 5 genres that should be focused on when adding to the library?\n",
    "    2. How can a similar user help the recommendation system suggest movies to a new user?\n",
    "    3. What are the top ten movies of all time based off this DataFrame being utilized?"
   ]
  },
  {
   "cell_type": "code",
   "execution_count": 2,
   "metadata": {
    "ExecuteTime": {
     "end_time": "2021-03-04T14:57:55.516310Z",
     "start_time": "2021-03-04T14:57:45.967715Z"
    },
    "scrolled": true
   },
   "outputs": [
    {
     "name": "stdout",
     "output_type": "stream",
     "text": [
      "Collecting package metadata (current_repodata.json): done\n",
      "Solving environment: failed with initial frozen solve. Retrying with flexible solve.\n",
      "Collecting package metadata (repodata.json): done\n",
      "Solving environment: failed with initial frozen solve. Retrying with flexible solve.\n",
      "\n",
      "PackagesNotFoundError: The following packages are not available from current channels:\n",
      "\n",
      "  - surprise\n",
      "\n",
      "Current channels:\n",
      "\n",
      "  - https://repo.anaconda.com/pkgs/main/osx-64\n",
      "  - https://repo.anaconda.com/pkgs/main/noarch\n",
      "  - https://repo.anaconda.com/pkgs/r/osx-64\n",
      "  - https://repo.anaconda.com/pkgs/r/noarch\n",
      "\n",
      "To search for alternate channels that may provide the conda package you're\n",
      "looking for, navigate to\n",
      "\n",
      "    https://anaconda.org\n",
      "\n",
      "and use the search bar at the top of the page.\n",
      "\n",
      "\n"
     ]
    }
   ],
   "source": [
    "!conda install surprise"
   ]
  },
  {
   "cell_type": "markdown",
   "metadata": {},
   "source": [
    "## Importing Libraries"
   ]
  },
  {
   "cell_type": "code",
   "execution_count": 3,
   "metadata": {
    "ExecuteTime": {
     "end_time": "2021-03-04T14:57:56.642003Z",
     "start_time": "2021-03-04T14:57:55.519287Z"
    }
   },
   "outputs": [],
   "source": [
    "# import libraries\n",
    "import numpy as np\n",
    "import pandas as pd\n",
    "\n",
    "from surprise import Dataset, Reader\n",
    "from surprise import KNNBaseline, SVD, SVDpp, NMF\n",
    "from surprise import accuracy\n",
    "from surprise.model_selection import cross_validate, train_test_split"
   ]
  },
  {
   "cell_type": "markdown",
   "metadata": {},
   "source": [
    "## EDA"
   ]
  },
  {
   "cell_type": "code",
   "execution_count": 4,
   "metadata": {
    "ExecuteTime": {
     "end_time": "2021-03-04T14:57:56.729824Z",
     "start_time": "2021-03-04T14:57:56.644348Z"
    }
   },
   "outputs": [
    {
     "data": {
      "text/html": [
       "<div>\n",
       "<style scoped>\n",
       "    .dataframe tbody tr th:only-of-type {\n",
       "        vertical-align: middle;\n",
       "    }\n",
       "\n",
       "    .dataframe tbody tr th {\n",
       "        vertical-align: top;\n",
       "    }\n",
       "\n",
       "    .dataframe thead th {\n",
       "        text-align: right;\n",
       "    }\n",
       "</style>\n",
       "<table border=\"1\" class=\"dataframe\">\n",
       "  <thead>\n",
       "    <tr style=\"text-align: right;\">\n",
       "      <th></th>\n",
       "      <th>title</th>\n",
       "      <th>genres</th>\n",
       "    </tr>\n",
       "    <tr>\n",
       "      <th>movieId</th>\n",
       "      <th></th>\n",
       "      <th></th>\n",
       "    </tr>\n",
       "  </thead>\n",
       "  <tbody>\n",
       "    <tr>\n",
       "      <th>1</th>\n",
       "      <td>Toy Story (1995)</td>\n",
       "      <td>Adventure|Animation|Children|Comedy|Fantasy</td>\n",
       "    </tr>\n",
       "    <tr>\n",
       "      <th>2</th>\n",
       "      <td>Jumanji (1995)</td>\n",
       "      <td>Adventure|Children|Fantasy</td>\n",
       "    </tr>\n",
       "    <tr>\n",
       "      <th>3</th>\n",
       "      <td>Grumpier Old Men (1995)</td>\n",
       "      <td>Comedy|Romance</td>\n",
       "    </tr>\n",
       "    <tr>\n",
       "      <th>4</th>\n",
       "      <td>Waiting to Exhale (1995)</td>\n",
       "      <td>Comedy|Drama|Romance</td>\n",
       "    </tr>\n",
       "    <tr>\n",
       "      <th>5</th>\n",
       "      <td>Father of the Bride Part II (1995)</td>\n",
       "      <td>Comedy</td>\n",
       "    </tr>\n",
       "  </tbody>\n",
       "</table>\n",
       "</div>"
      ],
      "text/plain": [
       "                                      title  \\\n",
       "movieId                                       \n",
       "1                          Toy Story (1995)   \n",
       "2                            Jumanji (1995)   \n",
       "3                   Grumpier Old Men (1995)   \n",
       "4                  Waiting to Exhale (1995)   \n",
       "5        Father of the Bride Part II (1995)   \n",
       "\n",
       "                                              genres  \n",
       "movieId                                               \n",
       "1        Adventure|Animation|Children|Comedy|Fantasy  \n",
       "2                         Adventure|Children|Fantasy  \n",
       "3                                     Comedy|Romance  \n",
       "4                               Comedy|Drama|Romance  \n",
       "5                                             Comedy  "
      ]
     },
     "execution_count": 4,
     "metadata": {},
     "output_type": "execute_result"
    }
   ],
   "source": [
    "df1 = pd.read_csv(('movies.csv'), index_col = 0)\n",
    "df1.head()"
   ]
  },
  {
   "cell_type": "code",
   "execution_count": 5,
   "metadata": {
    "ExecuteTime": {
     "end_time": "2021-03-04T14:57:56.844727Z",
     "start_time": "2021-03-04T14:57:56.731589Z"
    }
   },
   "outputs": [
    {
     "data": {
      "text/html": [
       "<div>\n",
       "<style scoped>\n",
       "    .dataframe tbody tr th:only-of-type {\n",
       "        vertical-align: middle;\n",
       "    }\n",
       "\n",
       "    .dataframe tbody tr th {\n",
       "        vertical-align: top;\n",
       "    }\n",
       "\n",
       "    .dataframe thead th {\n",
       "        text-align: right;\n",
       "    }\n",
       "</style>\n",
       "<table border=\"1\" class=\"dataframe\">\n",
       "  <thead>\n",
       "    <tr style=\"text-align: right;\">\n",
       "      <th></th>\n",
       "      <th>title</th>\n",
       "      <th>genres</th>\n",
       "    </tr>\n",
       "  </thead>\n",
       "  <tbody>\n",
       "    <tr>\n",
       "      <th>count</th>\n",
       "      <td>58098</td>\n",
       "      <td>58098</td>\n",
       "    </tr>\n",
       "    <tr>\n",
       "      <th>unique</th>\n",
       "      <td>58020</td>\n",
       "      <td>1643</td>\n",
       "    </tr>\n",
       "    <tr>\n",
       "      <th>top</th>\n",
       "      <td>Escape Room (2017)</td>\n",
       "      <td>Drama</td>\n",
       "    </tr>\n",
       "    <tr>\n",
       "      <th>freq</th>\n",
       "      <td>2</td>\n",
       "      <td>8402</td>\n",
       "    </tr>\n",
       "  </tbody>\n",
       "</table>\n",
       "</div>"
      ],
      "text/plain": [
       "                     title genres\n",
       "count                58098  58098\n",
       "unique               58020   1643\n",
       "top     Escape Room (2017)  Drama\n",
       "freq                     2   8402"
      ]
     },
     "execution_count": 5,
     "metadata": {},
     "output_type": "execute_result"
    }
   ],
   "source": [
    "df1.describe()"
   ]
  },
  {
   "cell_type": "code",
   "execution_count": 6,
   "metadata": {
    "ExecuteTime": {
     "end_time": "2021-03-04T14:58:04.847212Z",
     "start_time": "2021-03-04T14:57:56.846201Z"
    },
    "scrolled": true
   },
   "outputs": [
    {
     "name": "stderr",
     "output_type": "stream",
     "text": [
      "/opt/anaconda3/envs/learn-env/lib/python3.6/site-packages/numpy/lib/arraysetops.py:569: FutureWarning: elementwise comparison failed; returning scalar instead, but in the future will perform elementwise comparison\n",
      "  mask |= (ar1 == a)\n"
     ]
    },
    {
     "data": {
      "text/html": [
       "<div>\n",
       "<style scoped>\n",
       "    .dataframe tbody tr th:only-of-type {\n",
       "        vertical-align: middle;\n",
       "    }\n",
       "\n",
       "    .dataframe tbody tr th {\n",
       "        vertical-align: top;\n",
       "    }\n",
       "\n",
       "    .dataframe thead th {\n",
       "        text-align: right;\n",
       "    }\n",
       "</style>\n",
       "<table border=\"1\" class=\"dataframe\">\n",
       "  <thead>\n",
       "    <tr style=\"text-align: right;\">\n",
       "      <th></th>\n",
       "      <th>movieId</th>\n",
       "      <th>rating</th>\n",
       "      <th>timestamp</th>\n",
       "    </tr>\n",
       "    <tr>\n",
       "      <th>userId</th>\n",
       "      <th></th>\n",
       "      <th></th>\n",
       "      <th></th>\n",
       "    </tr>\n",
       "  </thead>\n",
       "  <tbody>\n",
       "    <tr>\n",
       "      <th>1</th>\n",
       "      <td>307</td>\n",
       "      <td>3.5</td>\n",
       "      <td>1256677221</td>\n",
       "    </tr>\n",
       "    <tr>\n",
       "      <th>1</th>\n",
       "      <td>481</td>\n",
       "      <td>3.5</td>\n",
       "      <td>1256677456</td>\n",
       "    </tr>\n",
       "    <tr>\n",
       "      <th>1</th>\n",
       "      <td>1091</td>\n",
       "      <td>1.5</td>\n",
       "      <td>1256677471</td>\n",
       "    </tr>\n",
       "    <tr>\n",
       "      <th>1</th>\n",
       "      <td>1257</td>\n",
       "      <td>4.5</td>\n",
       "      <td>1256677460</td>\n",
       "    </tr>\n",
       "    <tr>\n",
       "      <th>1</th>\n",
       "      <td>1449</td>\n",
       "      <td>4.5</td>\n",
       "      <td>1256677264</td>\n",
       "    </tr>\n",
       "    <tr>\n",
       "      <th>...</th>\n",
       "      <td>...</td>\n",
       "      <td>...</td>\n",
       "      <td>...</td>\n",
       "    </tr>\n",
       "    <tr>\n",
       "      <th>283228</th>\n",
       "      <td>8542</td>\n",
       "      <td>4.5</td>\n",
       "      <td>1379882795</td>\n",
       "    </tr>\n",
       "    <tr>\n",
       "      <th>283228</th>\n",
       "      <td>8712</td>\n",
       "      <td>4.5</td>\n",
       "      <td>1379882751</td>\n",
       "    </tr>\n",
       "    <tr>\n",
       "      <th>283228</th>\n",
       "      <td>34405</td>\n",
       "      <td>4.5</td>\n",
       "      <td>1379882889</td>\n",
       "    </tr>\n",
       "    <tr>\n",
       "      <th>283228</th>\n",
       "      <td>44761</td>\n",
       "      <td>4.5</td>\n",
       "      <td>1354159524</td>\n",
       "    </tr>\n",
       "    <tr>\n",
       "      <th>283228</th>\n",
       "      <td>54286</td>\n",
       "      <td>4.5</td>\n",
       "      <td>1354159718</td>\n",
       "    </tr>\n",
       "  </tbody>\n",
       "</table>\n",
       "<p>27753444 rows × 3 columns</p>\n",
       "</div>"
      ],
      "text/plain": [
       "        movieId  rating   timestamp\n",
       "userId                             \n",
       "1           307     3.5  1256677221\n",
       "1           481     3.5  1256677456\n",
       "1          1091     1.5  1256677471\n",
       "1          1257     4.5  1256677460\n",
       "1          1449     4.5  1256677264\n",
       "...         ...     ...         ...\n",
       "283228     8542     4.5  1379882795\n",
       "283228     8712     4.5  1379882751\n",
       "283228    34405     4.5  1379882889\n",
       "283228    44761     4.5  1354159524\n",
       "283228    54286     4.5  1354159718\n",
       "\n",
       "[27753444 rows x 3 columns]"
      ]
     },
     "execution_count": 6,
     "metadata": {},
     "output_type": "execute_result"
    }
   ],
   "source": [
    "df2 = pd.read_csv(('ratings.csv'), index_col=0)\n",
    "df2.set_index('movieId')\n",
    "df2"
   ]
  },
  {
   "cell_type": "code",
   "execution_count": 7,
   "metadata": {
    "ExecuteTime": {
     "end_time": "2021-03-04T14:58:13.461790Z",
     "start_time": "2021-03-04T14:58:04.848766Z"
    }
   },
   "outputs": [],
   "source": [
    "# Creating one df with the two seperate df's\n",
    "df = df2.merge(df1, right_index=True, left_on='movieId')\n",
    "df = df.reset_index()"
   ]
  },
  {
   "cell_type": "code",
   "execution_count": 8,
   "metadata": {
    "ExecuteTime": {
     "end_time": "2021-03-04T14:58:13.485788Z",
     "start_time": "2021-03-04T14:58:13.466325Z"
    }
   },
   "outputs": [
    {
     "data": {
      "text/html": [
       "<div>\n",
       "<style scoped>\n",
       "    .dataframe tbody tr th:only-of-type {\n",
       "        vertical-align: middle;\n",
       "    }\n",
       "\n",
       "    .dataframe tbody tr th {\n",
       "        vertical-align: top;\n",
       "    }\n",
       "\n",
       "    .dataframe thead th {\n",
       "        text-align: right;\n",
       "    }\n",
       "</style>\n",
       "<table border=\"1\" class=\"dataframe\">\n",
       "  <thead>\n",
       "    <tr style=\"text-align: right;\">\n",
       "      <th></th>\n",
       "      <th>userId</th>\n",
       "      <th>movieId</th>\n",
       "      <th>rating</th>\n",
       "      <th>timestamp</th>\n",
       "      <th>title</th>\n",
       "      <th>genres</th>\n",
       "    </tr>\n",
       "  </thead>\n",
       "  <tbody>\n",
       "    <tr>\n",
       "      <th>0</th>\n",
       "      <td>1</td>\n",
       "      <td>307</td>\n",
       "      <td>3.5</td>\n",
       "      <td>1256677221</td>\n",
       "      <td>Three Colors: Blue (Trois couleurs: Bleu) (1993)</td>\n",
       "      <td>Drama</td>\n",
       "    </tr>\n",
       "    <tr>\n",
       "      <th>1</th>\n",
       "      <td>6</td>\n",
       "      <td>307</td>\n",
       "      <td>4.0</td>\n",
       "      <td>832059248</td>\n",
       "      <td>Three Colors: Blue (Trois couleurs: Bleu) (1993)</td>\n",
       "      <td>Drama</td>\n",
       "    </tr>\n",
       "    <tr>\n",
       "      <th>2</th>\n",
       "      <td>56</td>\n",
       "      <td>307</td>\n",
       "      <td>4.0</td>\n",
       "      <td>1383625728</td>\n",
       "      <td>Three Colors: Blue (Trois couleurs: Bleu) (1993)</td>\n",
       "      <td>Drama</td>\n",
       "    </tr>\n",
       "    <tr>\n",
       "      <th>3</th>\n",
       "      <td>71</td>\n",
       "      <td>307</td>\n",
       "      <td>5.0</td>\n",
       "      <td>1257795414</td>\n",
       "      <td>Three Colors: Blue (Trois couleurs: Bleu) (1993)</td>\n",
       "      <td>Drama</td>\n",
       "    </tr>\n",
       "    <tr>\n",
       "      <th>4</th>\n",
       "      <td>84</td>\n",
       "      <td>307</td>\n",
       "      <td>3.0</td>\n",
       "      <td>999055519</td>\n",
       "      <td>Three Colors: Blue (Trois couleurs: Bleu) (1993)</td>\n",
       "      <td>Drama</td>\n",
       "    </tr>\n",
       "    <tr>\n",
       "      <th>...</th>\n",
       "      <td>...</td>\n",
       "      <td>...</td>\n",
       "      <td>...</td>\n",
       "      <td>...</td>\n",
       "      <td>...</td>\n",
       "      <td>...</td>\n",
       "    </tr>\n",
       "    <tr>\n",
       "      <th>27753439</th>\n",
       "      <td>282403</td>\n",
       "      <td>167894</td>\n",
       "      <td>1.0</td>\n",
       "      <td>1524243885</td>\n",
       "      <td>Stranglehold (1994)</td>\n",
       "      <td>Action</td>\n",
       "    </tr>\n",
       "    <tr>\n",
       "      <th>27753440</th>\n",
       "      <td>282732</td>\n",
       "      <td>161572</td>\n",
       "      <td>3.5</td>\n",
       "      <td>1504408070</td>\n",
       "      <td>The Great Houdini (1976)</td>\n",
       "      <td>Drama</td>\n",
       "    </tr>\n",
       "    <tr>\n",
       "      <th>27753441</th>\n",
       "      <td>283000</td>\n",
       "      <td>117857</td>\n",
       "      <td>3.5</td>\n",
       "      <td>1417317969</td>\n",
       "      <td>Hotline (2014)</td>\n",
       "      <td>Documentary</td>\n",
       "    </tr>\n",
       "    <tr>\n",
       "      <th>27753442</th>\n",
       "      <td>283000</td>\n",
       "      <td>133409</td>\n",
       "      <td>3.5</td>\n",
       "      <td>1431539331</td>\n",
       "      <td>Barnum! (1986)</td>\n",
       "      <td>(no genres listed)</td>\n",
       "    </tr>\n",
       "    <tr>\n",
       "      <th>27753443</th>\n",
       "      <td>283000</td>\n",
       "      <td>142855</td>\n",
       "      <td>3.5</td>\n",
       "      <td>1442889934</td>\n",
       "      <td>Paul Taylor Creative Domain (2014)</td>\n",
       "      <td>Documentary</td>\n",
       "    </tr>\n",
       "  </tbody>\n",
       "</table>\n",
       "<p>27753444 rows × 6 columns</p>\n",
       "</div>"
      ],
      "text/plain": [
       "          userId  movieId  rating   timestamp  \\\n",
       "0              1      307     3.5  1256677221   \n",
       "1              6      307     4.0   832059248   \n",
       "2             56      307     4.0  1383625728   \n",
       "3             71      307     5.0  1257795414   \n",
       "4             84      307     3.0   999055519   \n",
       "...          ...      ...     ...         ...   \n",
       "27753439  282403   167894     1.0  1524243885   \n",
       "27753440  282732   161572     3.5  1504408070   \n",
       "27753441  283000   117857     3.5  1417317969   \n",
       "27753442  283000   133409     3.5  1431539331   \n",
       "27753443  283000   142855     3.5  1442889934   \n",
       "\n",
       "                                                     title              genres  \n",
       "0         Three Colors: Blue (Trois couleurs: Bleu) (1993)               Drama  \n",
       "1         Three Colors: Blue (Trois couleurs: Bleu) (1993)               Drama  \n",
       "2         Three Colors: Blue (Trois couleurs: Bleu) (1993)               Drama  \n",
       "3         Three Colors: Blue (Trois couleurs: Bleu) (1993)               Drama  \n",
       "4         Three Colors: Blue (Trois couleurs: Bleu) (1993)               Drama  \n",
       "...                                                    ...                 ...  \n",
       "27753439                               Stranglehold (1994)              Action  \n",
       "27753440                          The Great Houdini (1976)               Drama  \n",
       "27753441                                    Hotline (2014)         Documentary  \n",
       "27753442                                    Barnum! (1986)  (no genres listed)  \n",
       "27753443                Paul Taylor Creative Domain (2014)         Documentary  \n",
       "\n",
       "[27753444 rows x 6 columns]"
      ]
     },
     "execution_count": 8,
     "metadata": {},
     "output_type": "execute_result"
    }
   ],
   "source": [
    "df"
   ]
  },
  {
   "cell_type": "code",
   "execution_count": 9,
   "metadata": {
    "ExecuteTime": {
     "end_time": "2021-03-04T14:58:17.328649Z",
     "start_time": "2021-03-04T14:58:13.489941Z"
    }
   },
   "outputs": [
    {
     "data": {
      "text/html": [
       "<div>\n",
       "<style scoped>\n",
       "    .dataframe tbody tr th:only-of-type {\n",
       "        vertical-align: middle;\n",
       "    }\n",
       "\n",
       "    .dataframe tbody tr th {\n",
       "        vertical-align: top;\n",
       "    }\n",
       "\n",
       "    .dataframe thead th {\n",
       "        text-align: right;\n",
       "    }\n",
       "</style>\n",
       "<table border=\"1\" class=\"dataframe\">\n",
       "  <thead>\n",
       "    <tr style=\"text-align: right;\">\n",
       "      <th></th>\n",
       "      <th>userId</th>\n",
       "      <th>rating</th>\n",
       "      <th>timestamp</th>\n",
       "    </tr>\n",
       "    <tr>\n",
       "      <th>movieId</th>\n",
       "      <th></th>\n",
       "      <th></th>\n",
       "      <th></th>\n",
       "    </tr>\n",
       "  </thead>\n",
       "  <tbody>\n",
       "    <tr>\n",
       "      <th>1</th>\n",
       "      <td>141939.237859</td>\n",
       "      <td>3.886649</td>\n",
       "      <td>1.128094e+09</td>\n",
       "    </tr>\n",
       "    <tr>\n",
       "      <th>2</th>\n",
       "      <td>142395.293962</td>\n",
       "      <td>3.246583</td>\n",
       "      <td>1.105961e+09</td>\n",
       "    </tr>\n",
       "    <tr>\n",
       "      <th>3</th>\n",
       "      <td>140371.877575</td>\n",
       "      <td>3.173981</td>\n",
       "      <td>9.692933e+08</td>\n",
       "    </tr>\n",
       "    <tr>\n",
       "      <th>4</th>\n",
       "      <td>140527.990632</td>\n",
       "      <td>2.874540</td>\n",
       "      <td>9.405874e+08</td>\n",
       "    </tr>\n",
       "    <tr>\n",
       "      <th>5</th>\n",
       "      <td>141254.322735</td>\n",
       "      <td>3.077291</td>\n",
       "      <td>9.970812e+08</td>\n",
       "    </tr>\n",
       "    <tr>\n",
       "      <th>...</th>\n",
       "      <td>...</td>\n",
       "      <td>...</td>\n",
       "      <td>...</td>\n",
       "    </tr>\n",
       "    <tr>\n",
       "      <th>193876</th>\n",
       "      <td>103565.000000</td>\n",
       "      <td>3.000000</td>\n",
       "      <td>1.537875e+09</td>\n",
       "    </tr>\n",
       "    <tr>\n",
       "      <th>193878</th>\n",
       "      <td>176871.000000</td>\n",
       "      <td>2.000000</td>\n",
       "      <td>1.537875e+09</td>\n",
       "    </tr>\n",
       "    <tr>\n",
       "      <th>193880</th>\n",
       "      <td>81710.000000</td>\n",
       "      <td>2.000000</td>\n",
       "      <td>1.537886e+09</td>\n",
       "    </tr>\n",
       "    <tr>\n",
       "      <th>193882</th>\n",
       "      <td>33330.000000</td>\n",
       "      <td>2.000000</td>\n",
       "      <td>1.537891e+09</td>\n",
       "    </tr>\n",
       "    <tr>\n",
       "      <th>193886</th>\n",
       "      <td>216362.000000</td>\n",
       "      <td>3.250000</td>\n",
       "      <td>1.537917e+09</td>\n",
       "    </tr>\n",
       "  </tbody>\n",
       "</table>\n",
       "<p>53889 rows × 3 columns</p>\n",
       "</div>"
      ],
      "text/plain": [
       "                userId    rating     timestamp\n",
       "movieId                                       \n",
       "1        141939.237859  3.886649  1.128094e+09\n",
       "2        142395.293962  3.246583  1.105961e+09\n",
       "3        140371.877575  3.173981  9.692933e+08\n",
       "4        140527.990632  2.874540  9.405874e+08\n",
       "5        141254.322735  3.077291  9.970812e+08\n",
       "...                ...       ...           ...\n",
       "193876   103565.000000  3.000000  1.537875e+09\n",
       "193878   176871.000000  2.000000  1.537875e+09\n",
       "193880    81710.000000  2.000000  1.537886e+09\n",
       "193882    33330.000000  2.000000  1.537891e+09\n",
       "193886   216362.000000  3.250000  1.537917e+09\n",
       "\n",
       "[53889 rows x 3 columns]"
      ]
     },
     "execution_count": 9,
     "metadata": {},
     "output_type": "execute_result"
    }
   ],
   "source": [
    "# Creating df based on movie ID's as the index\n",
    "avg_rating = df.groupby('movieId').mean()\n",
    "avg_rating"
   ]
  },
  {
   "cell_type": "code",
   "execution_count": 10,
   "metadata": {
    "ExecuteTime": {
     "end_time": "2021-03-04T14:58:17.357957Z",
     "start_time": "2021-03-04T14:58:17.330878Z"
    },
    "scrolled": false
   },
   "outputs": [
    {
     "data": {
      "text/html": [
       "<div>\n",
       "<style scoped>\n",
       "    .dataframe tbody tr th:only-of-type {\n",
       "        vertical-align: middle;\n",
       "    }\n",
       "\n",
       "    .dataframe tbody tr th {\n",
       "        vertical-align: top;\n",
       "    }\n",
       "\n",
       "    .dataframe thead th {\n",
       "        text-align: right;\n",
       "    }\n",
       "</style>\n",
       "<table border=\"1\" class=\"dataframe\">\n",
       "  <thead>\n",
       "    <tr style=\"text-align: right;\">\n",
       "      <th></th>\n",
       "      <th>userId</th>\n",
       "      <th>rating</th>\n",
       "      <th>title</th>\n",
       "      <th>genres</th>\n",
       "    </tr>\n",
       "    <tr>\n",
       "      <th>movieId</th>\n",
       "      <th></th>\n",
       "      <th></th>\n",
       "      <th></th>\n",
       "      <th></th>\n",
       "    </tr>\n",
       "  </thead>\n",
       "  <tbody>\n",
       "    <tr>\n",
       "      <th>1</th>\n",
       "      <td>141939.237859</td>\n",
       "      <td>3.886649</td>\n",
       "      <td>Toy Story (1995)</td>\n",
       "      <td>Adventure|Animation|Children|Comedy|Fantasy</td>\n",
       "    </tr>\n",
       "    <tr>\n",
       "      <th>2</th>\n",
       "      <td>142395.293962</td>\n",
       "      <td>3.246583</td>\n",
       "      <td>Jumanji (1995)</td>\n",
       "      <td>Adventure|Children|Fantasy</td>\n",
       "    </tr>\n",
       "    <tr>\n",
       "      <th>3</th>\n",
       "      <td>140371.877575</td>\n",
       "      <td>3.173981</td>\n",
       "      <td>Grumpier Old Men (1995)</td>\n",
       "      <td>Comedy|Romance</td>\n",
       "    </tr>\n",
       "    <tr>\n",
       "      <th>4</th>\n",
       "      <td>140527.990632</td>\n",
       "      <td>2.874540</td>\n",
       "      <td>Waiting to Exhale (1995)</td>\n",
       "      <td>Comedy|Drama|Romance</td>\n",
       "    </tr>\n",
       "    <tr>\n",
       "      <th>5</th>\n",
       "      <td>141254.322735</td>\n",
       "      <td>3.077291</td>\n",
       "      <td>Father of the Bride Part II (1995)</td>\n",
       "      <td>Comedy</td>\n",
       "    </tr>\n",
       "    <tr>\n",
       "      <th>...</th>\n",
       "      <td>...</td>\n",
       "      <td>...</td>\n",
       "      <td>...</td>\n",
       "      <td>...</td>\n",
       "    </tr>\n",
       "    <tr>\n",
       "      <th>193876</th>\n",
       "      <td>103565.000000</td>\n",
       "      <td>3.000000</td>\n",
       "      <td>The Great Glinka (1946)</td>\n",
       "      <td>(no genres listed)</td>\n",
       "    </tr>\n",
       "    <tr>\n",
       "      <th>193878</th>\n",
       "      <td>176871.000000</td>\n",
       "      <td>2.000000</td>\n",
       "      <td>Les tribulations d'une caissière (2011)</td>\n",
       "      <td>Comedy</td>\n",
       "    </tr>\n",
       "    <tr>\n",
       "      <th>193880</th>\n",
       "      <td>81710.000000</td>\n",
       "      <td>2.000000</td>\n",
       "      <td>Her Name Was Mumu (2016)</td>\n",
       "      <td>Drama</td>\n",
       "    </tr>\n",
       "    <tr>\n",
       "      <th>193882</th>\n",
       "      <td>33330.000000</td>\n",
       "      <td>2.000000</td>\n",
       "      <td>Flora (2017)</td>\n",
       "      <td>Adventure|Drama|Horror|Sci-Fi</td>\n",
       "    </tr>\n",
       "    <tr>\n",
       "      <th>193886</th>\n",
       "      <td>216362.000000</td>\n",
       "      <td>3.250000</td>\n",
       "      <td>Leal (2018)</td>\n",
       "      <td>Action|Crime|Drama</td>\n",
       "    </tr>\n",
       "  </tbody>\n",
       "</table>\n",
       "<p>53889 rows × 4 columns</p>\n",
       "</div>"
      ],
      "text/plain": [
       "                userId    rating                                    title  \\\n",
       "movieId                                                                     \n",
       "1        141939.237859  3.886649                         Toy Story (1995)   \n",
       "2        142395.293962  3.246583                           Jumanji (1995)   \n",
       "3        140371.877575  3.173981                  Grumpier Old Men (1995)   \n",
       "4        140527.990632  2.874540                 Waiting to Exhale (1995)   \n",
       "5        141254.322735  3.077291       Father of the Bride Part II (1995)   \n",
       "...                ...       ...                                      ...   \n",
       "193876   103565.000000  3.000000                  The Great Glinka (1946)   \n",
       "193878   176871.000000  2.000000  Les tribulations d'une caissière (2011)   \n",
       "193880    81710.000000  2.000000                 Her Name Was Mumu (2016)   \n",
       "193882    33330.000000  2.000000                             Flora (2017)   \n",
       "193886   216362.000000  3.250000                              Leal (2018)   \n",
       "\n",
       "                                              genres  \n",
       "movieId                                               \n",
       "1        Adventure|Animation|Children|Comedy|Fantasy  \n",
       "2                         Adventure|Children|Fantasy  \n",
       "3                                     Comedy|Romance  \n",
       "4                               Comedy|Drama|Romance  \n",
       "5                                             Comedy  \n",
       "...                                              ...  \n",
       "193876                            (no genres listed)  \n",
       "193878                                        Comedy  \n",
       "193880                                         Drama  \n",
       "193882                 Adventure|Drama|Horror|Sci-Fi  \n",
       "193886                            Action|Crime|Drama  \n",
       "\n",
       "[53889 rows x 4 columns]"
      ]
     },
     "execution_count": 10,
     "metadata": {},
     "output_type": "execute_result"
    }
   ],
   "source": [
    "# Adding the title into the new df and dropping irrelevant column 'timestamp'\n",
    "df_avg_rtng = avg_rating.merge(df1, right_index=True, left_on='movieId')\n",
    "df_avg_rtng = df_avg_rtng.drop(columns='timestamp')\n",
    "df_avg_rtng"
   ]
  },
  {
   "cell_type": "code",
   "execution_count": 16,
   "metadata": {
    "ExecuteTime": {
     "end_time": "2021-03-04T15:01:52.045649Z",
     "start_time": "2021-03-04T15:01:50.688158Z"
    },
    "scrolled": true
   },
   "outputs": [
    {
     "name": "stdout",
     "output_type": "stream",
     "text": [
      "<class 'pandas.core.frame.DataFrame'>\n",
      "Int64Index: 53889 entries, 1 to 193886\n",
      "Data columns (total 20 columns):\n",
      " #   Column              Non-Null Count  Dtype\n",
      "---  ------              --------------  -----\n",
      " 0   (no genres listed)  53889 non-null  int64\n",
      " 1   Action              53889 non-null  int64\n",
      " 2   Adventure           53889 non-null  int64\n",
      " 3   Animation           53889 non-null  int64\n",
      " 4   Children            53889 non-null  int64\n",
      " 5   Comedy              53889 non-null  int64\n",
      " 6   Crime               53889 non-null  int64\n",
      " 7   Documentary         53889 non-null  int64\n",
      " 8   Drama               53889 non-null  int64\n",
      " 9   Fantasy             53889 non-null  int64\n",
      " 10  Film-Noir           53889 non-null  int64\n",
      " 11  Horror              53889 non-null  int64\n",
      " 12  IMAX                53889 non-null  int64\n",
      " 13  Musical             53889 non-null  int64\n",
      " 14  Mystery             53889 non-null  int64\n",
      " 15  Romance             53889 non-null  int64\n",
      " 16  Sci-Fi              53889 non-null  int64\n",
      " 17  Thriller            53889 non-null  int64\n",
      " 18  War                 53889 non-null  int64\n",
      " 19  Western             53889 non-null  int64\n",
      "dtypes: int64(20)\n",
      "memory usage: 8.6 MB\n"
     ]
    }
   ],
   "source": [
    "dummies = df_avg_rtng['genres'].str.get_dummies(sep='|')\n",
    "dummies.info()"
   ]
  },
  {
   "cell_type": "code",
   "execution_count": 12,
   "metadata": {
    "ExecuteTime": {
     "end_time": "2021-03-04T14:58:18.243990Z",
     "start_time": "2021-03-04T14:58:18.172287Z"
    }
   },
   "outputs": [
    {
     "data": {
      "text/plain": [
       "(53889, 4)"
      ]
     },
     "execution_count": 12,
     "metadata": {},
     "output_type": "execute_result"
    }
   ],
   "source": [
    "df_avg_rtng.drop_duplicates(inplace=True)\n",
    "df_avg_rtng.shape"
   ]
  },
  {
   "cell_type": "code",
   "execution_count": 15,
   "metadata": {
    "ExecuteTime": {
     "end_time": "2021-03-04T14:59:36.000756Z",
     "start_time": "2021-03-04T14:59:35.990182Z"
    }
   },
   "outputs": [
    {
     "ename": "ValueError",
     "evalue": "You are trying to merge on object and int64 columns. If you wish to proceed you should use pd.concat",
     "output_type": "error",
     "traceback": [
      "\u001b[0;31m---------------------------------------------------------------------------\u001b[0m",
      "\u001b[0;31mValueError\u001b[0m                                Traceback (most recent call last)",
      "\u001b[0;32m<ipython-input-15-d05fbb266610>\u001b[0m in \u001b[0;36m<module>\u001b[0;34m\u001b[0m\n\u001b[0;32m----> 1\u001b[0;31m \u001b[0mdf_dummies\u001b[0m \u001b[0;34m=\u001b[0m \u001b[0mdf_avg_rtng\u001b[0m\u001b[0;34m.\u001b[0m\u001b[0mmerge\u001b[0m\u001b[0;34m(\u001b[0m\u001b[0mdummies\u001b[0m\u001b[0;34m,\u001b[0m \u001b[0mright_index\u001b[0m\u001b[0;34m=\u001b[0m\u001b[0;32mTrue\u001b[0m\u001b[0;34m,\u001b[0m \u001b[0mleft_on\u001b[0m\u001b[0;34m=\u001b[0m\u001b[0;34m'genres'\u001b[0m\u001b[0;34m)\u001b[0m\u001b[0;34m\u001b[0m\u001b[0;34m\u001b[0m\u001b[0m\n\u001b[0m",
      "\u001b[0;32m/opt/anaconda3/envs/learn-env/lib/python3.6/site-packages/pandas/core/frame.py\u001b[0m in \u001b[0;36mmerge\u001b[0;34m(self, right, how, on, left_on, right_on, left_index, right_index, sort, suffixes, copy, indicator, validate)\u001b[0m\n\u001b[1;32m   7295\u001b[0m             \u001b[0mcopy\u001b[0m\u001b[0;34m=\u001b[0m\u001b[0mcopy\u001b[0m\u001b[0;34m,\u001b[0m\u001b[0;34m\u001b[0m\u001b[0;34m\u001b[0m\u001b[0m\n\u001b[1;32m   7296\u001b[0m             \u001b[0mindicator\u001b[0m\u001b[0;34m=\u001b[0m\u001b[0mindicator\u001b[0m\u001b[0;34m,\u001b[0m\u001b[0;34m\u001b[0m\u001b[0;34m\u001b[0m\u001b[0m\n\u001b[0;32m-> 7297\u001b[0;31m             \u001b[0mvalidate\u001b[0m\u001b[0;34m=\u001b[0m\u001b[0mvalidate\u001b[0m\u001b[0;34m,\u001b[0m\u001b[0;34m\u001b[0m\u001b[0;34m\u001b[0m\u001b[0m\n\u001b[0m\u001b[1;32m   7298\u001b[0m         )\n\u001b[1;32m   7299\u001b[0m \u001b[0;34m\u001b[0m\u001b[0m\n",
      "\u001b[0;32m/opt/anaconda3/envs/learn-env/lib/python3.6/site-packages/pandas/core/reshape/merge.py\u001b[0m in \u001b[0;36mmerge\u001b[0;34m(left, right, how, on, left_on, right_on, left_index, right_index, sort, suffixes, copy, indicator, validate)\u001b[0m\n\u001b[1;32m     84\u001b[0m         \u001b[0mcopy\u001b[0m\u001b[0;34m=\u001b[0m\u001b[0mcopy\u001b[0m\u001b[0;34m,\u001b[0m\u001b[0;34m\u001b[0m\u001b[0;34m\u001b[0m\u001b[0m\n\u001b[1;32m     85\u001b[0m         \u001b[0mindicator\u001b[0m\u001b[0;34m=\u001b[0m\u001b[0mindicator\u001b[0m\u001b[0;34m,\u001b[0m\u001b[0;34m\u001b[0m\u001b[0;34m\u001b[0m\u001b[0m\n\u001b[0;32m---> 86\u001b[0;31m         \u001b[0mvalidate\u001b[0m\u001b[0;34m=\u001b[0m\u001b[0mvalidate\u001b[0m\u001b[0;34m,\u001b[0m\u001b[0;34m\u001b[0m\u001b[0;34m\u001b[0m\u001b[0m\n\u001b[0m\u001b[1;32m     87\u001b[0m     )\n\u001b[1;32m     88\u001b[0m     \u001b[0;32mreturn\u001b[0m \u001b[0mop\u001b[0m\u001b[0;34m.\u001b[0m\u001b[0mget_result\u001b[0m\u001b[0;34m(\u001b[0m\u001b[0;34m)\u001b[0m\u001b[0;34m\u001b[0m\u001b[0;34m\u001b[0m\u001b[0m\n",
      "\u001b[0;32m/opt/anaconda3/envs/learn-env/lib/python3.6/site-packages/pandas/core/reshape/merge.py\u001b[0m in \u001b[0;36m__init__\u001b[0;34m(self, left, right, how, on, left_on, right_on, axis, left_index, right_index, sort, suffixes, copy, indicator, validate)\u001b[0m\n\u001b[1;32m    629\u001b[0m         \u001b[0;31m# validate the merge keys dtypes. We may need to coerce\u001b[0m\u001b[0;34m\u001b[0m\u001b[0;34m\u001b[0m\u001b[0;34m\u001b[0m\u001b[0m\n\u001b[1;32m    630\u001b[0m         \u001b[0;31m# to avoid incompat dtypes\u001b[0m\u001b[0;34m\u001b[0m\u001b[0;34m\u001b[0m\u001b[0;34m\u001b[0m\u001b[0m\n\u001b[0;32m--> 631\u001b[0;31m         \u001b[0mself\u001b[0m\u001b[0;34m.\u001b[0m\u001b[0m_maybe_coerce_merge_keys\u001b[0m\u001b[0;34m(\u001b[0m\u001b[0;34m)\u001b[0m\u001b[0;34m\u001b[0m\u001b[0;34m\u001b[0m\u001b[0m\n\u001b[0m\u001b[1;32m    632\u001b[0m \u001b[0;34m\u001b[0m\u001b[0m\n\u001b[1;32m    633\u001b[0m         \u001b[0;31m# If argument passed to validate,\u001b[0m\u001b[0;34m\u001b[0m\u001b[0;34m\u001b[0m\u001b[0;34m\u001b[0m\u001b[0m\n",
      "\u001b[0;32m/opt/anaconda3/envs/learn-env/lib/python3.6/site-packages/pandas/core/reshape/merge.py\u001b[0m in \u001b[0;36m_maybe_coerce_merge_keys\u001b[0;34m(self)\u001b[0m\n\u001b[1;32m   1144\u001b[0m                     \u001b[0minferred_right\u001b[0m \u001b[0;32min\u001b[0m \u001b[0mstring_types\u001b[0m \u001b[0;32mand\u001b[0m \u001b[0minferred_left\u001b[0m \u001b[0;32mnot\u001b[0m \u001b[0;32min\u001b[0m \u001b[0mstring_types\u001b[0m\u001b[0;34m\u001b[0m\u001b[0;34m\u001b[0m\u001b[0m\n\u001b[1;32m   1145\u001b[0m                 ):\n\u001b[0;32m-> 1146\u001b[0;31m                     \u001b[0;32mraise\u001b[0m \u001b[0mValueError\u001b[0m\u001b[0;34m(\u001b[0m\u001b[0mmsg\u001b[0m\u001b[0;34m)\u001b[0m\u001b[0;34m\u001b[0m\u001b[0;34m\u001b[0m\u001b[0m\n\u001b[0m\u001b[1;32m   1147\u001b[0m \u001b[0;34m\u001b[0m\u001b[0m\n\u001b[1;32m   1148\u001b[0m             \u001b[0;31m# datetimelikes must match exactly\u001b[0m\u001b[0;34m\u001b[0m\u001b[0;34m\u001b[0m\u001b[0;34m\u001b[0m\u001b[0m\n",
      "\u001b[0;31mValueError\u001b[0m: You are trying to merge on object and int64 columns. If you wish to proceed you should use pd.concat"
     ]
    }
   ],
   "source": [
    "df_dummies = df_avg_rtng.merge(dummies, right_index=True, left_on='genres')"
   ]
  },
  {
   "cell_type": "code",
   "execution_count": null,
   "metadata": {
    "ExecuteTime": {
     "end_time": "2021-03-04T14:58:18.311831Z",
     "start_time": "2021-03-04T14:57:46.055Z"
    },
    "scrolled": false
   },
   "outputs": [],
   "source": [
    "print(df_avg_rtng.info())\n",
    "print(df_avg_rtng.describe())"
   ]
  },
  {
   "cell_type": "code",
   "execution_count": null,
   "metadata": {
    "ExecuteTime": {
     "end_time": "2021-03-04T14:58:18.312840Z",
     "start_time": "2021-03-04T14:57:46.057Z"
    },
    "scrolled": false
   },
   "outputs": [],
   "source": [
    "# Sorting df with ratings 5-0\n",
    "five_to_zero_rating = df_avg_rtng.sort_values(['rating'], ascending=False)\n",
    "five_to_zero_rating"
   ]
  },
  {
   "cell_type": "code",
   "execution_count": null,
   "metadata": {
    "ExecuteTime": {
     "end_time": "2021-03-04T14:58:18.313912Z",
     "start_time": "2021-03-04T14:57:46.058Z"
    }
   },
   "outputs": [],
   "source": [
    "five_to_zero_rating['genres'].split(sep='|')\n",
    "five_to_zero_rating"
   ]
  },
  {
   "cell_type": "code",
   "execution_count": null,
   "metadata": {
    "ExecuteTime": {
     "end_time": "2021-03-04T14:58:18.314912Z",
     "start_time": "2021-03-04T14:57:46.060Z"
    }
   },
   "outputs": [],
   "source": [
    "five_to_zero_rating['genres'].astype(str)"
   ]
  },
  {
   "cell_type": "code",
   "execution_count": null,
   "metadata": {},
   "outputs": [],
   "source": []
  },
  {
   "cell_type": "code",
   "execution_count": null,
   "metadata": {},
   "outputs": [],
   "source": []
  },
  {
   "cell_type": "code",
   "execution_count": null,
   "metadata": {
    "ExecuteTime": {
     "end_time": "2021-03-04T14:58:18.316036Z",
     "start_time": "2021-03-04T14:57:46.063Z"
    }
   },
   "outputs": [],
   "source": [
    "five_to_zero_rating['genres'].describe()"
   ]
  },
  {
   "cell_type": "code",
   "execution_count": null,
   "metadata": {
    "ExecuteTime": {
     "end_time": "2021-03-04T14:58:18.317000Z",
     "start_time": "2021-03-04T14:57:46.064Z"
    }
   },
   "outputs": [],
   "source": [
    "five_to_zero_rating['genres'].value_counts().head(10)"
   ]
  },
  {
   "cell_type": "code",
   "execution_count": null,
   "metadata": {
    "ExecuteTime": {
     "end_time": "2021-03-04T14:58:18.317946Z",
     "start_time": "2021-03-04T14:57:46.065Z"
    }
   },
   "outputs": [],
   "source": [
    "# Condition\n",
    "# top_votes = (five_to_zero_rating['rating'] >= '4.0')\n",
    "avg_rating_genre = df.groupby('genres').mean()\n",
    "avg_rating_genre"
   ]
  },
  {
   "cell_type": "markdown",
   "metadata": {
    "ExecuteTime": {
     "end_time": "2021-03-03T02:29:33.022001Z",
     "start_time": "2021-03-03T02:29:33.009607Z"
    }
   },
   "source": [
    "## Creating a Recommendation Model"
   ]
  },
  {
   "cell_type": "code",
   "execution_count": null,
   "metadata": {
    "ExecuteTime": {
     "end_time": "2021-03-04T14:58:18.319182Z",
     "start_time": "2021-03-04T14:57:46.093Z"
    }
   },
   "outputs": [],
   "source": [
    "# def model_accuracy(model):\n",
    "#     model.fit(smote_x, smote_y)\n",
    "    \n",
    "    \n",
    "#     y_train_pred = model.predict(X_train)\n",
    "#     print(round(accuracy_score(y_train, y_train_pred)*100,2),'%')\n",
    "#     print(confusion_matrix(y_train, y_train_pred))\n",
    "    \n",
    "#     y_pred = model.predict(X_test)\n",
    "#     print(round(accuracy_score(y_test, y_pred)*100,2),'%')\n",
    "#     print(confusion_matrix(y_test, y_pred))"
   ]
  },
  {
   "cell_type": "code",
   "execution_count": null,
   "metadata": {
    "ExecuteTime": {
     "end_time": "2021-03-04T14:58:18.320122Z",
     "start_time": "2021-03-04T14:57:46.094Z"
    }
   },
   "outputs": [],
   "source": [
    "KNNB = KNNBaseline()\n",
    "model_accuracy(KNNB)"
   ]
  },
  {
   "cell_type": "code",
   "execution_count": null,
   "metadata": {
    "ExecuteTime": {
     "end_time": "2021-03-04T14:58:18.321291Z",
     "start_time": "2021-03-04T14:57:46.095Z"
    }
   },
   "outputs": [],
   "source": [
    "SVD = SVD()\n",
    "model_accuracy(SVD)"
   ]
  },
  {
   "cell_type": "code",
   "execution_count": null,
   "metadata": {
    "ExecuteTime": {
     "end_time": "2021-03-04T14:58:18.322215Z",
     "start_time": "2021-03-04T14:57:46.097Z"
    }
   },
   "outputs": [],
   "source": [
    "SVDpp = SVDpp()\n",
    "model_accuracy(SVDpp)"
   ]
  },
  {
   "cell_type": "code",
   "execution_count": null,
   "metadata": {
    "ExecuteTime": {
     "end_time": "2021-03-04T14:58:18.323134Z",
     "start_time": "2021-03-04T14:57:46.098Z"
    }
   },
   "outputs": [],
   "source": [
    "NMF = NMF()\n",
    "model_accuracy(NMF)"
   ]
  }
 ],
 "metadata": {
  "kernelspec": {
   "display_name": "Python 3",
   "language": "python",
   "name": "python3"
  },
  "language_info": {
   "codemirror_mode": {
    "name": "ipython",
    "version": 3
   },
   "file_extension": ".py",
   "mimetype": "text/x-python",
   "name": "python",
   "nbconvert_exporter": "python",
   "pygments_lexer": "ipython3",
   "version": "3.6.9"
  },
  "toc": {
   "base_numbering": 1,
   "nav_menu": {},
   "number_sections": false,
   "sideBar": true,
   "skip_h1_title": false,
   "title_cell": "Table of Contents",
   "title_sidebar": "Contents",
   "toc_cell": false,
   "toc_position": {},
   "toc_section_display": true,
   "toc_window_display": true
  },
  "varInspector": {
   "cols": {
    "lenName": 16,
    "lenType": 16,
    "lenVar": 40
   },
   "kernels_config": {
    "python": {
     "delete_cmd_postfix": "",
     "delete_cmd_prefix": "del ",
     "library": "var_list.py",
     "varRefreshCmd": "print(var_dic_list())"
    },
    "r": {
     "delete_cmd_postfix": ") ",
     "delete_cmd_prefix": "rm(",
     "library": "var_list.r",
     "varRefreshCmd": "cat(var_dic_list()) "
    }
   },
   "types_to_exclude": [
    "module",
    "function",
    "builtin_function_or_method",
    "instance",
    "_Feature"
   ],
   "window_display": false
  }
 },
 "nbformat": 4,
 "nbformat_minor": 2
}
